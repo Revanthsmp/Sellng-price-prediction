{
 "cells": [
  {
   "cell_type": "code",
   "execution_count": 1,
   "id": "677cc8cc",
   "metadata": {},
   "outputs": [],
   "source": [
    "import pandas as pd\n",
    "import numpy as np\n",
    "from sklearn.linear_model import LinearRegression\n",
    "from sklearn.preprocessing import StandardScaler\n",
    "from sklearn.metrics import mean_squared_error\n",
    "from sklearn.model_selection import cross_val_score\n",
    "from sklearn.model_selection import train_test_split"
   ]
  },
  {
   "cell_type": "code",
   "execution_count": 2,
   "id": "82da50db",
   "metadata": {},
   "outputs": [
    {
     "name": "stdout",
     "output_type": "stream",
     "text": [
      "                           name  year  km_driven    fuel seller_type  \\\n",
      "0        Maruti Swift Dzire VDI  2014     145500  Diesel  Individual   \n",
      "1  Skoda Rapid 1.5 TDI Ambition  2014     120000  Diesel  Individual   \n",
      "2      Honda City 2017-2020 EXi  2006     140000  Petrol  Individual   \n",
      "3     Hyundai i20 Sportz Diesel  2010     127000  Diesel  Individual   \n",
      "4        Maruti Swift VXI BSIII  2007     120000  Petrol  Individual   \n",
      "\n",
      "  transmission         owner     mileage   engine   max_power  \\\n",
      "0       Manual   First Owner   23.4 kmpl  1248 CC      74 bhp   \n",
      "1       Manual  Second Owner  21.14 kmpl  1498 CC  103.52 bhp   \n",
      "2       Manual   Third Owner   17.7 kmpl  1497 CC      78 bhp   \n",
      "3       Manual   First Owner   23.0 kmpl  1396 CC      90 bhp   \n",
      "4       Manual   First Owner   16.1 kmpl  1298 CC    88.2 bhp   \n",
      "\n",
      "                     torque  seats  selling_price  \n",
      "0            190Nm@ 2000rpm    5.0         450000  \n",
      "1       250Nm@ 1500-2500rpm    5.0         370000  \n",
      "2     12.7@ 2,700(kgm@ rpm)    5.0         158000  \n",
      "3  22.4 kgm at 1750-2750rpm    5.0         225000  \n",
      "4     11.5@ 4,500(kgm@ rpm)    5.0         130000  \n",
      "shape of the data : (rows,columns)\n",
      "(8128, 13)\n",
      "Rank of the data : \n",
      "2\n",
      "Size of data : \n",
      "105664\n"
     ]
    }
   ],
   "source": [
    "data = pd.read_csv(r\"D:\\Dataset\\automobile\\Car_details.csv\")\n",
    "print(data.head())\n",
    "print(\"shape of the data : (rows,columns)\")\n",
    "print(np.shape(data))\n",
    "print(\"Rank of the data : \")\n",
    "print(np.ndim(data))\n",
    "print(\"Size of data : \")\n",
    "print(np.size(data))\n",
    "data1 = data"
   ]
  },
  {
   "cell_type": "code",
   "execution_count": 3,
   "id": "eff6d87e",
   "metadata": {},
   "outputs": [],
   "source": [
    "data1.loc[data1[\"fuel\"] == \"Diesel\", \"fuel\"] = 1\n",
    "data1.loc[data1[\"fuel\"] == \"Petrol\", \"fuel\"] = 2\n",
    "data1.loc[data1[\"fuel\"] == \"LPG\", \"fuel\"] = 3\n",
    "data1.loc[data1[\"fuel\"] == \"CNG\", \"fuel\"] = 4\n",
    "\n",
    "data1.loc[data1[\"transmission\"] == \"Manual\", \"transmission\"] = 0\n",
    "data1.loc[data1[\"transmission\"] == \"Automatic\", \"transmission\"] = 1"
   ]
  },
  {
   "cell_type": "code",
   "execution_count": 4,
   "id": "58a366ba",
   "metadata": {},
   "outputs": [],
   "source": [
    "data1[\"mileage\"] = data1[\"mileage\"].map(lambda x : str(x).rstrip(\" kmpl\"))\n",
    "data1[\"mileage\"] = data1[\"mileage\"].map(lambda x : str(x).rstrip(\" km/kg\"))\n",
    "data1[\"engine\"] = data1[\"engine\"].map(lambda x : str(x).rstrip(\" CC\"))\n",
    "data1[\"max_power\"] = data1[\"max_power\"].map(lambda x: str(x).rstrip(\" bhp\"))"
   ]
  },
  {
   "cell_type": "markdown",
   "id": "50a77dc9",
   "metadata": {},
   "source": [
    "# missing_records = data1[data1[\"mileage\"] == \"nan\"]\n",
    "missing_records.shape"
   ]
  },
  {
   "cell_type": "code",
   "execution_count": 6,
   "id": "cca0fcc3",
   "metadata": {},
   "outputs": [
    {
     "data": {
      "text/plain": [
       "(7906, 13)"
      ]
     },
     "execution_count": 6,
     "metadata": {},
     "output_type": "execute_result"
    }
   ],
   "source": [
    "mod_data = data.dropna()\n",
    "mod_data.shape"
   ]
  },
  {
   "cell_type": "code",
   "execution_count": 7,
   "id": "72d66f3b",
   "metadata": {},
   "outputs": [
    {
     "name": "stdout",
     "output_type": "stream",
     "text": [
      "========================================================================\n",
      "Original data : \n",
      "===========================================================================\n",
      "                           name  year  km_driven fuel seller_type  \\\n",
      "0        Maruti Swift Dzire VDI  2014     145500    1  Individual   \n",
      "1  Skoda Rapid 1.5 TDI Ambition  2014     120000    1  Individual   \n",
      "2      Honda City 2017-2020 EXi  2006     140000    2  Individual   \n",
      "3     Hyundai i20 Sportz Diesel  2010     127000    1  Individual   \n",
      "4        Maruti Swift VXI BSIII  2007     120000    2  Individual   \n",
      "\n",
      "  transmission         owner mileage engine max_power  \\\n",
      "0            0   First Owner    23.4   1248        74   \n",
      "1            0  Second Owner   21.14   1498    103.52   \n",
      "2            0   Third Owner    17.7   1497        78   \n",
      "3            0   First Owner    23.0   1396        90   \n",
      "4            0   First Owner    16.1   1298      88.2   \n",
      "\n",
      "                     torque  seats  selling_price  \n",
      "0            190Nm@ 2000rpm    5.0         450000  \n",
      "1       250Nm@ 1500-2500rpm    5.0         370000  \n",
      "2     12.7@ 2,700(kgm@ rpm)    5.0         158000  \n",
      "3  22.4 kgm at 1750-2750rpm    5.0         225000  \n",
      "4     11.5@ 4,500(kgm@ rpm)    5.0         130000  \n",
      "========================================================================\n",
      "Modified data : \n",
      "===========================================================================\n",
      "                           name  year  km_driven fuel seller_type  \\\n",
      "0        Maruti Swift Dzire VDI  2014     145500    1  Individual   \n",
      "1  Skoda Rapid 1.5 TDI Ambition  2014     120000    1  Individual   \n",
      "2      Honda City 2017-2020 EXi  2006     140000    2  Individual   \n",
      "3     Hyundai i20 Sportz Diesel  2010     127000    1  Individual   \n",
      "4        Maruti Swift VXI BSIII  2007     120000    2  Individual   \n",
      "\n",
      "  transmission         owner mileage engine max_power  \\\n",
      "0            0   First Owner    23.4   1248        74   \n",
      "1            0  Second Owner   21.14   1498    103.52   \n",
      "2            0   Third Owner    17.7   1497        78   \n",
      "3            0   First Owner    23.0   1396        90   \n",
      "4            0   First Owner    16.1   1298      88.2   \n",
      "\n",
      "                     torque  seats  selling_price  \n",
      "0            190Nm@ 2000rpm    5.0         450000  \n",
      "1       250Nm@ 1500-2500rpm    5.0         370000  \n",
      "2     12.7@ 2,700(kgm@ rpm)    5.0         158000  \n",
      "3  22.4 kgm at 1750-2750rpm    5.0         225000  \n",
      "4     11.5@ 4,500(kgm@ rpm)    5.0         130000  \n"
     ]
    }
   ],
   "source": [
    "print(\"========================================================================\")\n",
    "print(\"Original data : \")\n",
    "print(\"===========================================================================\")\n",
    "print(data.head())\n",
    "print(\"========================================================================\")\n",
    "print(\"Modified data : \")\n",
    "print(\"===========================================================================\")\n",
    "print(mod_data.head())"
   ]
  },
  {
   "cell_type": "code",
   "execution_count": 8,
   "id": "09ad2263",
   "metadata": {},
   "outputs": [],
   "source": [
    "features = mod_data.iloc[:, 1:3] #[:,[1,2]]\n",
    "target = mod_data.iloc[:, -1]\n",
    "X_train, X_test, y_train, y_test = train_test_split(features, target, test_size = .20, random_state = 1)"
   ]
  },
  {
   "cell_type": "code",
   "execution_count": 9,
   "id": "4f3eb9fc",
   "metadata": {},
   "outputs": [],
   "source": [
    "lr = LinearRegression()"
   ]
  },
  {
   "cell_type": "code",
   "execution_count": 10,
   "id": "516d8916",
   "metadata": {},
   "outputs": [
    {
     "data": {
      "text/plain": [
       "{'copy_X': True,\n",
       " 'fit_intercept': True,\n",
       " 'n_jobs': None,\n",
       " 'normalize': 'deprecated',\n",
       " 'positive': False}"
      ]
     },
     "execution_count": 10,
     "metadata": {},
     "output_type": "execute_result"
    }
   ],
   "source": [
    "model1 = lr.fit(X_train, y_train)\n",
    "model1.get_params()"
   ]
  },
  {
   "cell_type": "code",
   "execution_count": 11,
   "id": "8f560ebd",
   "metadata": {},
   "outputs": [],
   "source": [
    "y_pred1 = model1.predict(X_test)"
   ]
  },
  {
   "cell_type": "code",
   "execution_count": 12,
   "id": "05793c36",
   "metadata": {},
   "outputs": [
    {
     "name": "stdout",
     "output_type": "stream",
     "text": [
      "Mean squared error :  415063199165.38574\n",
      "Root mean squared error :  644253.986534337\n",
      "r2 score - training :  0.17156313764146924\n",
      "r2 score - testing :  0.17584625470506243\n"
     ]
    }
   ],
   "source": [
    "mse = mean_squared_error(y_test, y_pred1)\n",
    "print(\"Mean squared error : \",mse)\n",
    "rmse = np.sqrt(mse)\n",
    "print(\"Root mean squared error : \",rmse)\n",
    "r2_score_train = model1.score(X_train, y_train)\n",
    "print(\"r2 score - training : \",r2_score_train)\n",
    "r2_score_test = model1.score(X_test, y_test)\n",
    "print(\"r2 score - testing : \",r2_score_test)"
   ]
  },
  {
   "cell_type": "markdown",
   "id": "03ee3325",
   "metadata": {},
   "source": [
    "# Decision tree regressor"
   ]
  },
  {
   "cell_type": "code",
   "execution_count": 13,
   "id": "510d99cb",
   "metadata": {},
   "outputs": [],
   "source": [
    "from sklearn.tree import DecisionTreeRegressor"
   ]
  },
  {
   "cell_type": "code",
   "execution_count": 14,
   "id": "76401208",
   "metadata": {},
   "outputs": [],
   "source": [
    "features = mod_data[[\"year\", \"km_driven\", \"fuel\", \"transmission\", \"mileage\", \"engine\", \"max_power\"]]\n",
    "target = mod_data[\"selling_price\"]\n",
    "X_train, X_test, y_train, y_test = train_test_split(features, target, test_size = .20, random_state = 1)"
   ]
  },
  {
   "cell_type": "code",
   "execution_count": 15,
   "id": "f31343de",
   "metadata": {},
   "outputs": [],
   "source": [
    "dtr = DecisionTreeRegressor()"
   ]
  },
  {
   "cell_type": "code",
   "execution_count": 16,
   "id": "bde15125",
   "metadata": {},
   "outputs": [
    {
     "data": {
      "text/plain": [
       "{'ccp_alpha': 0.0,\n",
       " 'criterion': 'squared_error',\n",
       " 'max_depth': None,\n",
       " 'max_features': None,\n",
       " 'max_leaf_nodes': None,\n",
       " 'min_impurity_decrease': 0.0,\n",
       " 'min_samples_leaf': 1,\n",
       " 'min_samples_split': 2,\n",
       " 'min_weight_fraction_leaf': 0.0,\n",
       " 'random_state': None,\n",
       " 'splitter': 'best'}"
      ]
     },
     "execution_count": 16,
     "metadata": {},
     "output_type": "execute_result"
    }
   ],
   "source": [
    "model2 = dtr.fit(X_train, y_train)\n",
    "model2.get_params()"
   ]
  },
  {
   "cell_type": "code",
   "execution_count": 17,
   "id": "a5dd6204",
   "metadata": {},
   "outputs": [],
   "source": [
    "y_pred2 = model2.predict(X_test)"
   ]
  },
  {
   "cell_type": "code",
   "execution_count": 18,
   "id": "264fa65d",
   "metadata": {},
   "outputs": [
    {
     "name": "stdout",
     "output_type": "stream",
     "text": [
      "Mean Squared error :  18218967187.050148\n",
      "R2 - score (Training) :  0.9994522033127557\n",
      "R2 - score (Test) :  0.963824231893346\n"
     ]
    }
   ],
   "source": [
    "print(\"Mean Squared error : \", mean_squared_error(y_test, y_pred2))\n",
    "print(\"R2 - score (Training) : \", model2.score(X_train, y_train))\n",
    "print(\"R2 - score (Test) : \", model2.score(X_test, y_test))"
   ]
  },
  {
   "cell_type": "code",
   "execution_count": null,
   "id": "1701b800",
   "metadata": {},
   "outputs": [],
   "source": []
  }
 ],
 "metadata": {
  "kernelspec": {
   "display_name": "Python 3 (ipykernel)",
   "language": "python",
   "name": "python3"
  },
  "language_info": {
   "codemirror_mode": {
    "name": "ipython",
    "version": 3
   },
   "file_extension": ".py",
   "mimetype": "text/x-python",
   "name": "python",
   "nbconvert_exporter": "python",
   "pygments_lexer": "ipython3",
   "version": "3.9.13"
  }
 },
 "nbformat": 4,
 "nbformat_minor": 5
}
